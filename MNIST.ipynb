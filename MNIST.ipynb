{
  "nbformat": 4,
  "nbformat_minor": 0,
  "metadata": {
    "colab": {
      "name": "MNIST",
      "provenance": [],
      "collapsed_sections": [],
      "authorship_tag": "ABX9TyMV0DF48HGRKqKWaKN45PUd",
      "include_colab_link": true
    },
    "kernelspec": {
      "name": "python3",
      "display_name": "Python 3"
    },
    "language_info": {
      "name": "python"
    }
  },
  "cells": [
    {
      "cell_type": "markdown",
      "metadata": {
        "id": "view-in-github",
        "colab_type": "text"
      },
      "source": [
        "<a href=\"https://colab.research.google.com/github/jeonghojo00/Pytorch/blob/main/MNIST.ipynb\" target=\"_parent\"><img src=\"https://colab.research.google.com/assets/colab-badge.svg\" alt=\"Open In Colab\"/></a>"
      ]
    },
    {
      "cell_type": "markdown",
      "metadata": {
        "id": "FBFFoVHdmSK4"
      },
      "source": [
        "Practice Notebook addressed in <https://youtu.be/GIsg-ZUy0MY>"
      ]
    },
    {
      "cell_type": "code",
      "metadata": {
        "id": "ZrEklspDmRwN"
      },
      "source": [
        "# Imports\n",
        "import torch\n",
        "import torchvision\n",
        "from torchvision.datasets import MNIST"
      ],
      "execution_count": null,
      "outputs": []
    },
    {
      "cell_type": "code",
      "metadata": {
        "colab": {
          "base_uri": "https://localhost:8080/"
        },
        "id": "ff6dx2WCr54A",
        "outputId": "2135377b-7727-42ad-95eb-f1856ff99723"
      },
      "source": [
        "# Mount google drive\n",
        "from google.colab import drive\n",
        "drive.mount('/content/drive')"
      ],
      "execution_count": 2,
      "outputs": [
        {
          "output_type": "stream",
          "text": [
            "Mounted at /content/drive\n"
          ],
          "name": "stdout"
        }
      ]
    },
    {
      "cell_type": "code",
      "metadata": {
        "id": "OZp7R1Vlr_x2"
      },
      "source": [
        "# Change current directory\n",
        "import os\n",
        "os.chdir('/content/drive/My Drive/Colab Notebooks/Vision/MNIST')"
      ],
      "execution_count": 3,
      "outputs": []
    },
    {
      "cell_type": "code",
      "metadata": {
        "colab": {
          "base_uri": "https://localhost:8080/"
        },
        "id": "_XqJxIweruLs",
        "outputId": "4a403750-bea2-453f-b03d-bc8698f3503f"
      },
      "source": [
        "# Download training dataset (60000)\n",
        "dataset = MNIST(root='data/', download=True)\n",
        "print(len(dataset))\n",
        "print(dataset[0])"
      ],
      "execution_count": 4,
      "outputs": [
        {
          "output_type": "stream",
          "text": [
            "60000\n",
            "(<PIL.Image.Image image mode=L size=28x28 at 0x7F6E39575E10>, 5)\n"
          ],
          "name": "stdout"
        }
      ]
    },
    {
      "cell_type": "markdown",
      "metadata": {
        "id": "DUSxIypksicK"
      },
      "source": [
        ""
      ]
    },
    {
      "cell_type": "code",
      "metadata": {
        "colab": {
          "base_uri": "https://localhost:8080/"
        },
        "id": "3FdYgAqEsPM5",
        "outputId": "9f0e2100-7462-4c8b-cadb-697b0d7c2b71"
      },
      "source": [
        "# Load test dataset (10000)\n",
        "test_dataset = MNIST(root='data/', train=False)\n",
        "len(test_dataset)"
      ],
      "execution_count": 5,
      "outputs": [
        {
          "output_type": "execute_result",
          "data": {
            "text/plain": [
              "10000"
            ]
          },
          "metadata": {
            "tags": []
          },
          "execution_count": 5
        }
      ]
    },
    {
      "cell_type": "code",
      "metadata": {
        "id": "RZRrH4ziseT7"
      },
      "source": [
        "import matplotlib.pyplot as plt\n",
        "%matplotlib inline\n",
        "# %matploblib inline is added to indicate that we weant to plot the graphs within the notebook. \n",
        "# Without this line, Colab will show the image in a popup. \n",
        "# Statements starting with % are called IPython magic commands and are used to configure the behavior of the environement itself."
      ],
      "execution_count": 6,
      "outputs": []
    },
    {
      "cell_type": "code",
      "metadata": {
        "colab": {
          "base_uri": "https://localhost:8080/",
          "height": 282
        },
        "id": "ALnOHqWFtK_U",
        "outputId": "73862c2d-5eca-48f4-ef97-f9cfc0d31993"
      },
      "source": [
        "image, label = dataset[0]\n",
        "plt.imshow(image, cmap='gray')\n",
        "print('Label: ', label)"
      ],
      "execution_count": 7,
      "outputs": [
        {
          "output_type": "stream",
          "text": [
            "Label:  5\n"
          ],
          "name": "stdout"
        },
        {
          "output_type": "display_data",
          "data": {
            "image/png": "[encoded data removed]",
            "text/plain": [
              "<Figure size 432x288 with 1 Axes>"
            ]
          },
          "metadata": {
            "tags": [],
            "needs_background": "light"
          }
        }
      ]
    },
    {
      "cell_type": "code",
      "metadata": {
        "colab": {
          "base_uri": "https://localhost:8080/",
          "height": 282
        },
        "id": "q14SLsn3t0jL",
        "outputId": "aa791fd3-ea80-4fb3-ca6e-159b35d91f4e"
      },
      "source": [
        "image, label = dataset[5]\n",
        "plt.imshow(image, cmap='gray')\n",
        "print('Label: ', label)"
      ],
      "execution_count": 8,
      "outputs": [
        {
          "output_type": "stream",
          "text": [
            "Label:  2\n"
          ],
          "name": "stdout"
        },
        {
          "output_type": "display_data",
          "data": {
            "image/png": "[encoded data removed]",
            "text/plain": [
              "<Figure size 432x288 with 1 Axes>"
            ]
          },
          "metadata": {
            "tags": [],
            "needs_background": "light"
          }
        }
      ]
    },
    {
      "cell_type": "code",
      "metadata": {
        "id": "HC4DJjDyuADj"
      },
      "source": [
        "import torchvision.transforms as transforms"
      ],
      "execution_count": 9,
      "outputs": []
    },
    {
      "cell_type": "code",
      "metadata": {
        "id": "w8ffwFAmuOpZ"
      },
      "source": [
        "# We will use ToTensor transform to convert images into PyTorch tensors\n",
        "# MNIST datset (images and labels)\n",
        "dataset = MNIST(root='data/',\n",
        "               train=True,\n",
        "               transform=transforms.ToTensor())"
      ],
      "execution_count": 10,
      "outputs": []
    },
    {
      "cell_type": "code",
      "metadata": {
        "colab": {
          "base_uri": "https://localhost:8080/"
        },
        "id": "7Al6d5jZufCi",
        "outputId": "d1ce957d-5548-43c8-ff35-40251fe6b7f8"
      },
      "source": [
        "img_tensor, label = dataset[0]\n",
        "print(img_tensor.shape, label)"
      ],
      "execution_count": 11,
      "outputs": [
        {
          "output_type": "stream",
          "text": [
            "torch.Size([1, 28, 28]) 5\n"
          ],
          "name": "stdout"
        }
      ]
    },
    {
      "cell_type": "markdown",
      "metadata": {
        "id": "rf11jLxJu8el"
      },
      "source": [
        "The image is now converted to 1x28x28 tensor. The first dimension is used to keep track of the clor channel"
      ]
    },
    {
      "cell_type": "code",
      "metadata": {
        "colab": {
          "base_uri": "https://localhost:8080/"
        },
        "id": "p7gA31zKuq_t",
        "outputId": "80d86558-c136-44aa-ebac-bdbaa6b869d2"
      },
      "source": [
        "print(img_tensor[:, 10:15, 10:15])\n",
        "print(torch.max(img_tensor), torch.min(img_tensor))"
      ],
      "execution_count": 12,
      "outputs": [
        {
          "output_type": "stream",
          "text": [
            "tensor([[[0.0039, 0.6039, 0.9922, 0.3529, 0.0000],\n",
            "         [0.0000, 0.5451, 0.9922, 0.7451, 0.0078],\n",
            "         [0.0000, 0.0431, 0.7451, 0.9922, 0.2745],\n",
            "         [0.0000, 0.0000, 0.1373, 0.9451, 0.8824],\n",
            "         [0.0000, 0.0000, 0.0000, 0.3176, 0.9412]]])\n",
            "tensor(1.) tensor(0.)\n"
          ],
          "name": "stdout"
        }
      ]
    },
    {
      "cell_type": "markdown",
      "metadata": {
        "id": "QA6yRPS6vbVO"
      },
      "source": [
        "'1' represents white and '0' represents black"
      ]
    },
    {
      "cell_type": "code",
      "metadata": {
        "id": "4If5deyGvSho"
      },
      "source": [
        "# Plot the image by passing in the 28x28 matrix"
      ],
      "execution_count": 13,
      "outputs": []
    },
    {
      "cell_type": "code",
      "metadata": {
        "colab": {
          "base_uri": "https://localhost:8080/",
          "height": 282
        },
        "id": "AyRD8QQjvmov",
        "outputId": "ccc5f110-eb28-4060-834b-107c3eb6e4e0"
      },
      "source": [
        "plt.imshow(img_tensor[0, 10:15, 10:15], cmap='gray')"
      ],
      "execution_count": 14,
      "outputs": [
        {
          "output_type": "execute_result",
          "data": {
            "text/plain": [
              "<matplotlib.image.AxesImage at 0x7f6e38fcd110>"
            ]
          },
          "metadata": {
            "tags": []
          },
          "execution_count": 14
        },
        {
          "output_type": "display_data",
          "data": {
            "image/png": "[encoded data removed]",
            "text/plain": [
              "<Figure size 432x288 with 1 Axes>"
            ]
          },
          "metadata": {
            "tags": [],
            "needs_background": "light"
          }
        }
      ]
    },
    {
      "cell_type": "markdown",
      "metadata": {
        "id": "55lL_J7PT-46"
      },
      "source": [
        "# Training and Validation Datasets"
      ]
    },
    {
      "cell_type": "markdown",
      "metadata": {
        "id": "iRC0dOoOW30q"
      },
      "source": [
        "### Split dataset into Training and Validation datasets"
      ]
    },
    {
      "cell_type": "code",
      "metadata": {
        "colab": {
          "base_uri": "https://localhost:8080/"
        },
        "id": "t9eAK1XrW7Ty",
        "outputId": "190b0ac8-b0e3-4494-9bb9-ed593f36da15"
      },
      "source": [
        "# Select 20% of dataset to be validation set\n",
        "val_pct = 0.2\n",
        "n_train = int(len(dataset) * (1-val_pct))\n",
        "n_val = len(dataset) - n_train\n",
        "train_set, val_set = torch.utils.data.random_split(dataset, [n_train, n_val])\n",
        "print(\"Number of Training Dataset: \", len(train_set))\n",
        "print(\"Number of Validation Datset: \", len(val_set))"
      ],
      "execution_count": 15,
      "outputs": [
        {
          "output_type": "stream",
          "text": [
            "Number of Training Dataset:  48000\n",
            "Number of Validation Datset:  12000\n"
          ],
          "name": "stdout"
        }
      ]
    },
    {
      "cell_type": "code",
      "metadata": {
        "id": "NAdxV7uqYJPA"
      },
      "source": [
        "from torch.utils.data import DataLoader\n",
        "\n",
        "batch_size = 128\n",
        "\n",
        "train_loader = DataLoader(train_set, batch_size, shuffle=True)\n",
        "val_loader = DataLoader(val_set, batch_size)"
      ],
      "execution_count": 16,
      "outputs": []
    },
    {
      "cell_type": "code",
      "metadata": {
        "colab": {
          "base_uri": "https://localhost:8080/"
        },
        "id": "bC4T3jSyY4Oi",
        "outputId": "ceef7a6c-5d5b-4c0a-9885-16be6e4d9436"
      },
      "source": [
        "len(train_loader)"
      ],
      "execution_count": 17,
      "outputs": [
        {
          "output_type": "execute_result",
          "data": {
            "text/plain": [
              "375"
            ]
          },
          "metadata": {
            "tags": []
          },
          "execution_count": 17
        }
      ]
    },
    {
      "cell_type": "markdown",
      "metadata": {
        "id": "aLjYi1IsdYQr"
      },
      "source": [
        "# Model"
      ]
    },
    {
      "cell_type": "markdown",
      "metadata": {
        "id": "PRRQD7q5e--y"
      },
      "source": [
        "Note that we have prepared our dataloaders, we can define our model\n",
        " * A logistic regression model is almost identital to a linear regression model. It contains weights and bias matrices. The output is obtained using a simple matrix operations ( Y_pred = x @ w.t() + b )\n",
        " * Since nn.Linear expects each training example to be a vector, each 1X28X28 image tensors is. lattened into a. ector of size 784 (28*28) before being passed into the. odel\n",
        " * The Output of each image is vector of. ize 10, with each element signifying the probability of.  particular target label (0 to 9). The predicted label for. ach image is simple the one with the highest probability"
      ]
    },
    {
      "cell_type": "code",
      "metadata": {
        "id": "vgEtlqMJdfWz"
      },
      "source": [
        "import torch.nn as nn\n",
        "\n",
        "input_size = 28*28\n",
        "num_classes = 10 #0 to 9"
      ],
      "execution_count": 18,
      "outputs": []
    },
    {
      "cell_type": "code",
      "metadata": {
        "id": "dh4RIFd8dkWq"
      },
      "source": [
        "# Logistic regression model\n",
        "# Linear(input_size, output_size)\n",
        "model = nn.Linear(input_size, num_classes)"
      ],
      "execution_count": 19,
      "outputs": []
    },
    {
      "cell_type": "code",
      "metadata": {
        "colab": {
          "base_uri": "https://localhost:8080/"
        },
        "id": "KSefSIwVg-FY",
        "outputId": "64b00f90-4264-4b04-fcf3-2bb68ab2cbb6"
      },
      "source": [
        "print(model.weight.shape)\n",
        "print(model.weight)"
      ],
      "execution_count": 20,
      "outputs": [
        {
          "output_type": "stream",
          "text": [
            "torch.Size([10, 784])\n",
            "Parameter containing:\n",
            "tensor([[ 0.0093,  0.0123,  0.0100,  ...,  0.0070, -0.0333, -0.0061],\n",
            "        [ 0.0040, -0.0314, -0.0357,  ..., -0.0023, -0.0330, -0.0270],\n",
            "        [ 0.0179, -0.0326, -0.0151,  ..., -0.0028, -0.0030,  0.0132],\n",
            "        ...,\n",
            "        [-0.0096,  0.0191,  0.0267,  ..., -0.0317, -0.0160, -0.0266],\n",
            "        [-0.0271, -0.0266, -0.0219,  ...,  0.0240,  0.0169,  0.0056],\n",
            "        [-0.0332, -0.0113,  0.0014,  ..., -0.0104,  0.0024,  0.0261]],\n",
            "       requires_grad=True)\n"
          ],
          "name": "stdout"
        }
      ]
    },
    {
      "cell_type": "code",
      "metadata": {
        "colab": {
          "base_uri": "https://localhost:8080/"
        },
        "id": "xpyGLPLuhL9m",
        "outputId": "bfe5300d-a810-4941-b910-12916dfcb54c"
      },
      "source": [
        "print(model.bias.shape)\n",
        "print(model.bias)"
      ],
      "execution_count": 21,
      "outputs": [
        {
          "output_type": "stream",
          "text": [
            "torch.Size([10])\n",
            "Parameter containing:\n",
            "tensor([ 0.0103,  0.0261, -0.0291, -0.0023,  0.0033,  0.0098,  0.0204, -0.0116,\n",
            "        -0.0039, -0.0297], requires_grad=True)\n"
          ],
          "name": "stdout"
        }
      ]
    },
    {
      "cell_type": "code",
      "metadata": {
        "colab": {
          "base_uri": "https://localhost:8080/"
        },
        "id": "l7CKiz7_hnLy",
        "outputId": "6f47d369-ded4-41e6-9b50-76f4dd387a55"
      },
      "source": [
        "train_loader"
      ],
      "execution_count": 22,
      "outputs": [
        {
          "output_type": "execute_result",
          "data": {
            "text/plain": [
              "<torch.utils.data.dataloader.DataLoader at 0x7f6e38f93210>"
            ]
          },
          "metadata": {
            "tags": []
          },
          "execution_count": 22
        }
      ]
    },
    {
      "cell_type": "code",
      "metadata": {
        "colab": {
          "base_uri": "https://localhost:8080/",
          "height": 477
        },
        "id": "62RQrK52hTi1",
        "outputId": "ec68cb49-b544-42da-f321-462483fe2f2a"
      },
      "source": [
        "# Take the first batch of 100 images from our dataset, and pass them into our model\n",
        "\n",
        "for images, labels in train_loader:\n",
        "    print(labels)\n",
        "    print(images.shape)\n",
        "    outputs = model(images)\n",
        "    break"
      ],
      "execution_count": 23,
      "outputs": [
        {
          "output_type": "stream",
          "text": [
            "tensor([0, 9, 9, 0, 0, 4, 1, 6, 1, 8, 8, 3, 9, 8, 3, 7, 2, 1, 7, 1, 0, 2, 0, 0,\n",
            "        6, 6, 3, 6, 1, 3, 4, 3, 8, 2, 6, 6, 2, 0, 9, 0, 6, 2, 1, 1, 5, 3, 0, 7,\n",
            "        8, 0, 3, 8, 2, 2, 0, 4, 5, 1, 0, 6, 3, 0, 7, 4, 7, 7, 0, 8, 6, 2, 4, 4,\n",
            "        1, 4, 8, 0, 0, 5, 2, 7, 6, 7, 9, 5, 4, 8, 5, 7, 0, 2, 3, 1, 5, 5, 3, 5,\n",
            "        8, 3, 0, 6, 4, 8, 9, 2, 1, 2, 2, 2, 7, 6, 9, 7, 8, 3, 1, 6, 3, 5, 5, 3,\n",
            "        3, 2, 8, 8, 7, 8, 7, 2])\n",
            "torch.Size([128, 1, 28, 28])\n"
          ],
          "name": "stdout"
        },
        {
          "output_type": "error",
          "ename": "RuntimeError",
          "evalue": "ignored",
          "traceback": [
            "\u001b[0;31m---------------------------------------------------------------------------\u001b[0m",
            "\u001b[0;31mRuntimeError\u001b[0m                              Traceback (most recent call last)",
            "\u001b[0;32m<ipython-input-23-2ddf887c04ae>\u001b[0m in \u001b[0;36m<module>\u001b[0;34m()\u001b[0m\n\u001b[1;32m      4\u001b[0m     \u001b[0mprint\u001b[0m\u001b[0;34m(\u001b[0m\u001b[0mlabels\u001b[0m\u001b[0;34m)\u001b[0m\u001b[0;34m\u001b[0m\u001b[0;34m\u001b[0m\u001b[0m\n\u001b[1;32m      5\u001b[0m     \u001b[0mprint\u001b[0m\u001b[0;34m(\u001b[0m\u001b[0mimages\u001b[0m\u001b[0;34m.\u001b[0m\u001b[0mshape\u001b[0m\u001b[0;34m)\u001b[0m\u001b[0;34m\u001b[0m\u001b[0;34m\u001b[0m\u001b[0m\n\u001b[0;32m----> 6\u001b[0;31m     \u001b[0moutputs\u001b[0m \u001b[0;34m=\u001b[0m \u001b[0mmodel\u001b[0m\u001b[0;34m(\u001b[0m\u001b[0mimages\u001b[0m\u001b[0;34m)\u001b[0m\u001b[0;34m\u001b[0m\u001b[0;34m\u001b[0m\u001b[0m\n\u001b[0m\u001b[1;32m      7\u001b[0m     \u001b[0;32mbreak\u001b[0m\u001b[0;34m\u001b[0m\u001b[0;34m\u001b[0m\u001b[0m\n",
            "\u001b[0;32m/usr/local/lib/python3.7/dist-packages/torch/nn/modules/module.py\u001b[0m in \u001b[0;36m_call_impl\u001b[0;34m(self, *input, **kwargs)\u001b[0m\n\u001b[1;32m    887\u001b[0m             \u001b[0mresult\u001b[0m \u001b[0;34m=\u001b[0m \u001b[0mself\u001b[0m\u001b[0;34m.\u001b[0m\u001b[0m_slow_forward\u001b[0m\u001b[0;34m(\u001b[0m\u001b[0;34m*\u001b[0m\u001b[0minput\u001b[0m\u001b[0;34m,\u001b[0m \u001b[0;34m**\u001b[0m\u001b[0mkwargs\u001b[0m\u001b[0;34m)\u001b[0m\u001b[0;34m\u001b[0m\u001b[0;34m\u001b[0m\u001b[0m\n\u001b[1;32m    888\u001b[0m         \u001b[0;32melse\u001b[0m\u001b[0;34m:\u001b[0m\u001b[0;34m\u001b[0m\u001b[0;34m\u001b[0m\u001b[0m\n\u001b[0;32m--> 889\u001b[0;31m             \u001b[0mresult\u001b[0m \u001b[0;34m=\u001b[0m \u001b[0mself\u001b[0m\u001b[0;34m.\u001b[0m\u001b[0mforward\u001b[0m\u001b[0;34m(\u001b[0m\u001b[0;34m*\u001b[0m\u001b[0minput\u001b[0m\u001b[0;34m,\u001b[0m \u001b[0;34m**\u001b[0m\u001b[0mkwargs\u001b[0m\u001b[0;34m)\u001b[0m\u001b[0;34m\u001b[0m\u001b[0;34m\u001b[0m\u001b[0m\n\u001b[0m\u001b[1;32m    890\u001b[0m         for hook in itertools.chain(\n\u001b[1;32m    891\u001b[0m                 \u001b[0m_global_forward_hooks\u001b[0m\u001b[0;34m.\u001b[0m\u001b[0mvalues\u001b[0m\u001b[0;34m(\u001b[0m\u001b[0;34m)\u001b[0m\u001b[0;34m,\u001b[0m\u001b[0;34m\u001b[0m\u001b[0;34m\u001b[0m\u001b[0m\n",
            "\u001b[0;32m/usr/local/lib/python3.7/dist-packages/torch/nn/modules/linear.py\u001b[0m in \u001b[0;36mforward\u001b[0;34m(self, input)\u001b[0m\n\u001b[1;32m     92\u001b[0m \u001b[0;34m\u001b[0m\u001b[0m\n\u001b[1;32m     93\u001b[0m     \u001b[0;32mdef\u001b[0m \u001b[0mforward\u001b[0m\u001b[0;34m(\u001b[0m\u001b[0mself\u001b[0m\u001b[0;34m,\u001b[0m \u001b[0minput\u001b[0m\u001b[0;34m:\u001b[0m \u001b[0mTensor\u001b[0m\u001b[0;34m)\u001b[0m \u001b[0;34m->\u001b[0m \u001b[0mTensor\u001b[0m\u001b[0;34m:\u001b[0m\u001b[0;34m\u001b[0m\u001b[0;34m\u001b[0m\u001b[0m\n\u001b[0;32m---> 94\u001b[0;31m         \u001b[0;32mreturn\u001b[0m \u001b[0mF\u001b[0m\u001b[0;34m.\u001b[0m\u001b[0mlinear\u001b[0m\u001b[0;34m(\u001b[0m\u001b[0minput\u001b[0m\u001b[0;34m,\u001b[0m \u001b[0mself\u001b[0m\u001b[0;34m.\u001b[0m\u001b[0mweight\u001b[0m\u001b[0;34m,\u001b[0m \u001b[0mself\u001b[0m\u001b[0;34m.\u001b[0m\u001b[0mbias\u001b[0m\u001b[0;34m)\u001b[0m\u001b[0;34m\u001b[0m\u001b[0;34m\u001b[0m\u001b[0m\n\u001b[0m\u001b[1;32m     95\u001b[0m \u001b[0;34m\u001b[0m\u001b[0m\n\u001b[1;32m     96\u001b[0m     \u001b[0;32mdef\u001b[0m \u001b[0mextra_repr\u001b[0m\u001b[0;34m(\u001b[0m\u001b[0mself\u001b[0m\u001b[0;34m)\u001b[0m \u001b[0;34m->\u001b[0m \u001b[0mstr\u001b[0m\u001b[0;34m:\u001b[0m\u001b[0;34m\u001b[0m\u001b[0;34m\u001b[0m\u001b[0m\n",
            "\u001b[0;32m/usr/local/lib/python3.7/dist-packages/torch/nn/functional.py\u001b[0m in \u001b[0;36mlinear\u001b[0;34m(input, weight, bias)\u001b[0m\n\u001b[1;32m   1751\u001b[0m     \u001b[0;32mif\u001b[0m \u001b[0mhas_torch_function_variadic\u001b[0m\u001b[0;34m(\u001b[0m\u001b[0minput\u001b[0m\u001b[0;34m,\u001b[0m \u001b[0mweight\u001b[0m\u001b[0;34m)\u001b[0m\u001b[0;34m:\u001b[0m\u001b[0;34m\u001b[0m\u001b[0;34m\u001b[0m\u001b[0m\n\u001b[1;32m   1752\u001b[0m         \u001b[0;32mreturn\u001b[0m \u001b[0mhandle_torch_function\u001b[0m\u001b[0;34m(\u001b[0m\u001b[0mlinear\u001b[0m\u001b[0;34m,\u001b[0m \u001b[0;34m(\u001b[0m\u001b[0minput\u001b[0m\u001b[0;34m,\u001b[0m \u001b[0mweight\u001b[0m\u001b[0;34m)\u001b[0m\u001b[0;34m,\u001b[0m \u001b[0minput\u001b[0m\u001b[0;34m,\u001b[0m \u001b[0mweight\u001b[0m\u001b[0;34m,\u001b[0m \u001b[0mbias\u001b[0m\u001b[0;34m=\u001b[0m\u001b[0mbias\u001b[0m\u001b[0;34m)\u001b[0m\u001b[0;34m\u001b[0m\u001b[0;34m\u001b[0m\u001b[0m\n\u001b[0;32m-> 1753\u001b[0;31m     \u001b[0;32mreturn\u001b[0m \u001b[0mtorch\u001b[0m\u001b[0;34m.\u001b[0m\u001b[0m_C\u001b[0m\u001b[0;34m.\u001b[0m\u001b[0m_nn\u001b[0m\u001b[0;34m.\u001b[0m\u001b[0mlinear\u001b[0m\u001b[0;34m(\u001b[0m\u001b[0minput\u001b[0m\u001b[0;34m,\u001b[0m \u001b[0mweight\u001b[0m\u001b[0;34m,\u001b[0m \u001b[0mbias\u001b[0m\u001b[0;34m)\u001b[0m\u001b[0;34m\u001b[0m\u001b[0;34m\u001b[0m\u001b[0m\n\u001b[0m\u001b[1;32m   1754\u001b[0m \u001b[0;34m\u001b[0m\u001b[0m\n\u001b[1;32m   1755\u001b[0m \u001b[0;34m\u001b[0m\u001b[0m\n",
            "\u001b[0;31mRuntimeError\u001b[0m: mat1 and mat2 shapes cannot be multiplied (3584x28 and 784x10)"
          ]
        }
      ]
    },
    {
      "cell_type": "markdown",
      "metadata": {
        "id": "qRnrMxaUik3w"
      },
      "source": [
        "It fails because the Model expects input of [128, 774] while the input was actually [128, 1, 28, 28].\n",
        "To flatten them out, we use .reshape method of a tensor, which will allow us to efficiently 'view' each image as a flat vector"
      ]
    },
    {
      "cell_type": "code",
      "metadata": {
        "colab": {
          "base_uri": "https://localhost:8080/"
        },
        "id": "-RM07RcFjHqS",
        "outputId": "b79a779d-ca58-4a79-d89f-b83b5215bd19"
      },
      "source": [
        "print(images.shape)\n",
        "print(images.reshape(128, 784).shape)"
      ],
      "execution_count": 24,
      "outputs": [
        {
          "output_type": "stream",
          "text": [
            "torch.Size([128, 1, 28, 28])\n",
            "torch.Size([128, 784])\n"
          ],
          "name": "stdout"
        }
      ]
    },
    {
      "cell_type": "code",
      "metadata": {
        "id": "eSm-nPxfii7L"
      },
      "source": [
        "class MnistModel(nn.Module):\n",
        "    def __init__(self):\n",
        "        super().__init__() #What does do in torch to initiate a class\n",
        "        self.linear = nn.Linear(input_size, num_classes)\n",
        "    def forward(self, xb): #xb: batch of input. At this time 128\n",
        "        xb = xb.reshape(-1, 784) # -1 enables to work with any batch size\n",
        "        out = self.linear(xb)\n",
        "        return out"
      ],
      "execution_count": 57,
      "outputs": []
    },
    {
      "cell_type": "code",
      "metadata": {
        "id": "FN72n2vijB44"
      },
      "source": [
        "model = MnistModel()"
      ],
      "execution_count": 58,
      "outputs": []
    },
    {
      "cell_type": "code",
      "metadata": {
        "colab": {
          "base_uri": "https://localhost:8080/"
        },
        "id": "VuzcPJcDlAy_",
        "outputId": "34dedbf6-38b0-4b43-843b-750c39f721eb"
      },
      "source": [
        "print(model.linear.weight.shape, model.linear.bias.shape)\n",
        "print(list(model.parameters()))"
      ],
      "execution_count": 59,
      "outputs": [
        {
          "output_type": "stream",
          "text": [
            "torch.Size([10, 784]) torch.Size([10])\n",
            "[Parameter containing:\n",
            "tensor([[-0.0230, -0.0250, -0.0136,  ...,  0.0008, -0.0315, -0.0184],\n",
            "        [ 0.0198,  0.0052,  0.0246,  ..., -0.0340,  0.0061,  0.0059],\n",
            "        [ 0.0156, -0.0196, -0.0200,  ...,  0.0214,  0.0166,  0.0135],\n",
            "        ...,\n",
            "        [ 0.0149,  0.0166, -0.0294,  ...,  0.0020,  0.0304,  0.0181],\n",
            "        [ 0.0122, -0.0340,  0.0354,  ...,  0.0205, -0.0335,  0.0352],\n",
            "        [-0.0248,  0.0034, -0.0153,  ..., -0.0314, -0.0100,  0.0189]],\n",
            "       requires_grad=True), Parameter containing:\n",
            "tensor([-4.1470e-03, -9.9272e-03,  5.8846e-03, -2.2289e-03, -7.5952e-03,\n",
            "         2.2352e-05,  1.9607e-02, -2.1767e-02, -8.1127e-03,  4.5652e-03],\n",
            "       requires_grad=True)]\n"
          ],
          "name": "stdout"
        }
      ]
    },
    {
      "cell_type": "code",
      "metadata": {
        "colab": {
          "base_uri": "https://localhost:8080/"
        },
        "id": "iqgDrO_Slxq6",
        "outputId": "8d8e4031-992b-429b-ce3f-8b16b8c1dae0"
      },
      "source": [
        "for images, labels in train_loader:\n",
        "    print(images.shape)\n",
        "    outputs = model(images)\n",
        "    break\n",
        "\n",
        "print(\"Output shape: \", outputs.shape)\n",
        "print(\"Sample outputs: \\n\", outputs[:2].data) #Only printing out 2"
      ],
      "execution_count": 60,
      "outputs": [
        {
          "output_type": "stream",
          "text": [
            "torch.Size([128, 1, 28, 28])\n",
            "Output shape:  torch.Size([128, 10])\n",
            "Sample outputs: \n",
            " tensor([[ 0.1714,  0.1203, -0.3385, -0.1416, -0.0143, -0.0829, -0.0645,  0.0634,\n",
            "          0.0357, -0.1254],\n",
            "        [-0.4462, -0.0602, -0.1424, -0.0647, -0.3763, -0.0060, -0.0291,  0.0669,\n",
            "         -0.0524, -0.0335]])\n"
          ],
          "name": "stdout"
        }
      ]
    },
    {
      "cell_type": "markdown",
      "metadata": {
        "id": "C4dqV88imasM"
      },
      "source": [
        "We'd like these outputs to represent probabilities, but for that elements of each output row must lie between 0 to 1 and add up to 1, which is clearly not the case here.<br />\n",
        "To convert the output rows into probabilities, we use the softmax function\n",
        " "
      ]
    },
    {
      "cell_type": "code",
      "metadata": {
        "id": "tQqAOdacmCgG"
      },
      "source": [
        "import torch.nn.functional as F"
      ],
      "execution_count": 61,
      "outputs": []
    },
    {
      "cell_type": "code",
      "metadata": {
        "colab": {
          "base_uri": "https://localhost:8080/"
        },
        "id": "skss2dsVpGfH",
        "outputId": "2acd34c0-7b0b-4d20-fc87-e9ee68fbf89d"
      },
      "source": [
        "# Apply softmax for each output row\n",
        "probs = F.softmax(outputs, dim=1)\n",
        "\n",
        "# Look at sample probabilities\n",
        "print(\"Sample Probabilities: \\n\", probs[:2].data)\n",
        "\n",
        "# Add up the probabilities of an output row\n",
        "print(\"Sum: \", torch.sum(probs[0]).item())"
      ],
      "execution_count": 62,
      "outputs": [
        {
          "output_type": "stream",
          "text": [
            "Sample Probabilities: \n",
            " tensor([[0.1221, 0.1160, 0.0733, 0.0893, 0.1014, 0.0947, 0.0964, 0.1096, 0.1066,\n",
            "         0.0907],\n",
            "        [0.0709, 0.1043, 0.0961, 0.1039, 0.0761, 0.1102, 0.1076, 0.1185, 0.1052,\n",
            "         0.1072]])\n",
            "Sum:  1.0000001192092896\n"
          ],
          "name": "stdout"
        }
      ]
    },
    {
      "cell_type": "code",
      "metadata": {
        "colab": {
          "base_uri": "https://localhost:8080/"
        },
        "id": "XbVaAjIxpKlR",
        "outputId": "2e454914-4fb3-4057-db14-ad0539016be2"
      },
      "source": [
        "max_probs, preds = torch.max(probs, dim=1)\n",
        "print(preds)\n",
        "print(max_probs)"
      ],
      "execution_count": 63,
      "outputs": [
        {
          "output_type": "stream",
          "text": [
            "tensor([0, 7, 7, 2, 5, 2, 2, 2, 7, 7, 9, 9, 6, 7, 7, 3, 2, 5, 1, 5, 8, 5, 2, 7,\n",
            "        7, 1, 9, 6, 5, 2, 9, 9, 9, 2, 9, 5, 5, 7, 0, 2, 5, 5, 8, 5, 3, 3, 6, 7,\n",
            "        9, 5, 2, 8, 5, 1, 2, 6, 7, 2, 6, 2, 5, 6, 7, 4, 9, 7, 2, 2, 2, 3, 7, 0,\n",
            "        6, 2, 4, 2, 9, 0, 6, 8, 0, 3, 7, 1, 8, 2, 2, 2, 6, 2, 3, 7, 6, 7, 2, 2,\n",
            "        6, 7, 5, 2, 8, 9, 2, 6, 0, 5, 2, 8, 3, 8, 3, 2, 0, 9, 7, 9, 2, 9, 6, 6,\n",
            "        2, 2, 6, 3, 6, 1, 9, 9])\n",
            "tensor([0.1221, 0.1185, 0.1163, 0.1203, 0.1295, 0.1448, 0.1574, 0.1146, 0.1204,\n",
            "        0.1213, 0.1175, 0.1132, 0.1359, 0.1199, 0.1398, 0.1333, 0.1252, 0.1278,\n",
            "        0.1247, 0.1259, 0.1152, 0.1211, 0.1312, 0.1222, 0.1251, 0.1282, 0.1144,\n",
            "        0.1272, 0.1332, 0.1283, 0.1147, 0.1079, 0.1294, 0.1270, 0.1242, 0.1193,\n",
            "        0.1233, 0.1220, 0.1163, 0.1369, 0.1207, 0.1288, 0.1157, 0.1236, 0.1257,\n",
            "        0.1216, 0.1189, 0.1135, 0.1228, 0.1273, 0.1203, 0.1125, 0.1173, 0.1256,\n",
            "        0.1130, 0.1229, 0.1355, 0.1231, 0.1299, 0.1267, 0.1420, 0.1128, 0.1308,\n",
            "        0.1247, 0.1323, 0.1217, 0.1292, 0.1228, 0.1192, 0.1201, 0.1152, 0.1145,\n",
            "        0.1250, 0.1399, 0.1168, 0.1250, 0.1188, 0.1135, 0.1325, 0.1213, 0.1245,\n",
            "        0.1245, 0.1195, 0.1186, 0.1242, 0.1256, 0.1393, 0.1240, 0.1232, 0.1171,\n",
            "        0.1178, 0.1210, 0.1217, 0.1239, 0.1243, 0.1216, 0.1225, 0.1162, 0.1290,\n",
            "        0.1231, 0.1274, 0.1165, 0.1266, 0.1390, 0.1099, 0.1380, 0.1202, 0.1250,\n",
            "        0.1147, 0.1141, 0.1222, 0.1099, 0.1329, 0.1243, 0.1189, 0.1142, 0.1227,\n",
            "        0.1364, 0.1444, 0.1288, 0.1371, 0.1279, 0.1380, 0.1300, 0.1259, 0.1124,\n",
            "        0.1249, 0.1265], grad_fn=<MaxBackward0>)\n"
          ],
          "name": "stdout"
        }
      ]
    },
    {
      "cell_type": "code",
      "metadata": {
        "colab": {
          "base_uri": "https://localhost:8080/"
        },
        "id": "orsP67cIpn7S",
        "outputId": "63f6d2d9-3dae-4c0b-feb2-dcaa4894cf37"
      },
      "source": [
        "labels"
      ],
      "execution_count": 64,
      "outputs": [
        {
          "output_type": "execute_result",
          "data": {
            "text/plain": [
              "tensor([1, 3, 1, 9, 7, 0, 5, 4, 7, 5, 5, 2, 2, 1, 3, 0, 6, 8, 8, 0, 8, 4, 6, 3,\n",
              "        8, 1, 6, 7, 0, 7, 1, 8, 4, 8, 5, 3, 9, 9, 0, 0, 8, 0, 8, 3, 3, 7, 7, 0,\n",
              "        8, 9, 5, 1, 7, 3, 2, 4, 7, 7, 9, 6, 7, 4, 8, 6, 2, 3, 9, 9, 3, 3, 9, 1,\n",
              "        7, 5, 4, 9, 6, 2, 7, 3, 1, 7, 1, 9, 7, 4, 0, 7, 4, 0, 8, 1, 4, 1, 0, 2,\n",
              "        5, 5, 4, 5, 9, 4, 6, 7, 1, 0, 0, 9, 5, 3, 3, 5, 6, 6, 2, 6, 0, 3, 3, 7,\n",
              "        6, 0, 9, 2, 6, 3, 8, 4])"
            ]
          },
          "metadata": {
            "tags": []
          },
          "execution_count": 64
        }
      ]
    },
    {
      "cell_type": "markdown",
      "metadata": {
        "id": "QNkalpTpp0UI"
      },
      "source": [
        "# Evaluation Metrics and Loss Function"
      ]
    },
    {
      "cell_type": "code",
      "metadata": {
        "id": "8WsQ2WnVp54D"
      },
      "source": [
        "def accuracy(outputs, labels):\n",
        "    _, preds = torch.max(outputs, dim=1)\n",
        "    return torch.tensor(torch.sum(preds == labels).item() / len(preds))"
      ],
      "execution_count": 65,
      "outputs": []
    },
    {
      "cell_type": "code",
      "metadata": {
        "colab": {
          "base_uri": "https://localhost:8080/"
        },
        "id": "sJXCfl7dqNsq",
        "outputId": "bb3799c9-5ca7-46ca-8f8d-e21604e45fd5"
      },
      "source": [
        "accuracy(outputs, labels)"
      ],
      "execution_count": 66,
      "outputs": [
        {
          "output_type": "execute_result",
          "data": {
            "text/plain": [
              "tensor(0.1016)"
            ]
          },
          "metadata": {
            "tags": []
          },
          "execution_count": 66
        }
      ]
    },
    {
      "cell_type": "markdown",
      "metadata": {
        "id": "vhUP3pXfsWXW"
      },
      "source": [
        "While accuracy is a good way to measure model accuracy, it cannot be used for gradient descent because it is not differentiable. <br />\n",
        "A commonly used loss funciton for classification problems is a cross-entropy"
      ]
    },
    {
      "cell_type": "code",
      "metadata": {
        "colab": {
          "base_uri": "https://localhost:8080/"
        },
        "id": "v0y9m7tPqsZE",
        "outputId": "0aa0d5db-f5f1-4884-a247-5c2978b38a56"
      },
      "source": [
        "outputs"
      ],
      "execution_count": 67,
      "outputs": [
        {
          "output_type": "execute_result",
          "data": {
            "text/plain": [
              "tensor([[ 0.1714,  0.1203, -0.3385,  ...,  0.0634,  0.0357, -0.1254],\n",
              "        [-0.4462, -0.0602, -0.1424,  ...,  0.0669, -0.0524, -0.0335],\n",
              "        [ 0.0975,  0.1058, -0.2118,  ...,  0.1502, -0.0641, -0.0592],\n",
              "        ...,\n",
              "        [-0.0851,  0.1121,  0.0586,  ...,  0.0023, -0.1236,  0.0137],\n",
              "        [-0.2233,  0.1748, -0.0144,  ..., -0.1238,  0.1108,  0.2262],\n",
              "        [-0.0749, -0.1163,  0.0933,  ..., -0.0157, -0.3639,  0.2016]],\n",
              "       grad_fn=<AddmmBackward>)"
            ]
          },
          "metadata": {
            "tags": []
          },
          "execution_count": 67
        }
      ]
    },
    {
      "cell_type": "code",
      "metadata": {
        "id": "M0IlFNRDtXQf"
      },
      "source": [
        "loss_fn = F.cross_entropy"
      ],
      "execution_count": 68,
      "outputs": []
    },
    {
      "cell_type": "code",
      "metadata": {
        "colab": {
          "base_uri": "https://localhost:8080/"
        },
        "id": "-QG17EkTtaNH",
        "outputId": "824765b9-0534-4365-ba98-a0d109e48ce7"
      },
      "source": [
        "# Loss for current batch of data\n",
        "\n",
        "loss = loss_fn(outputs, labels)\n",
        "print(loss)"
      ],
      "execution_count": 69,
      "outputs": [
        {
          "output_type": "stream",
          "text": [
            "tensor(2.2994, grad_fn=<NllLossBackward>)\n"
          ],
          "name": "stdout"
        }
      ]
    },
    {
      "cell_type": "markdown",
      "metadata": {
        "id": "U1oBlrt1xDyW"
      },
      "source": [
        "Since the cross entropy is the negative logarithm of the predicted probability of the correct label averaged over all training samples, one way to interpret the resulting number 2.33 is look at e^-2.33, whichi is around 0.1 as the predicted probability of the correct label, on average. <br />\n",
        "Lower the loss, better the model"
      ]
    },
    {
      "cell_type": "markdown",
      "metadata": {
        "id": "qkKhGv2MxeaZ"
      },
      "source": [
        "# Optimizer"
      ]
    },
    {
      "cell_type": "code",
      "metadata": {
        "id": "bw3esWVAxf9I"
      },
      "source": [
        "learning_rate = 0.001\n",
        "optimizer = torch.optim.SGD(model.parameters(), lr = learning_rate)"
      ],
      "execution_count": 70,
      "outputs": []
    },
    {
      "cell_type": "markdown",
      "metadata": {
        "id": "c93Xhqd8xlFM"
      },
      "source": [
        "Parameters like batch size, learining rate, and optimizer need to be selected in advance while training machine learning models. Selecting the right parameters are critical to the experiment"
      ]
    },
    {
      "cell_type": "markdown",
      "metadata": {
        "id": "e_IN2q1Tuk_R"
      },
      "source": [
        "# Train the model"
      ]
    },
    {
      "cell_type": "markdown",
      "metadata": {
        "id": "L5U9NiuguoTJ"
      },
      "source": [
        "for epoch in range(num_epochs):\n",
        "    # Training Phase\n",
        "    for batch in train_loader:\n",
        "        # Generate predictions\n",
        "        # Calculate loss\n",
        "        # Compute loss\n",
        "        # Compute gradients\n",
        "        # Update weights\n",
        "        # Reset gradients\n",
        "    \n",
        "    # Validation Phase\n",
        "    for batch in val_loader:\n",
        "        # Generate predictions\n",
        "        # Calculate loss\n",
        "        # Calculate metrics (accuracy etc.)\n",
        "\n",
        "        # Log epoch, loss & metrics for inspection"
      ]
    },
    {
      "cell_type": "code",
      "metadata": {
        "id": "i0bNKACzx_qD"
      },
      "source": [
        "def loss_batch(model, loss_func, xb, yb, opt=None, metric=None):\n",
        "    # Calculate loss\n",
        "    preds = model(xb)\n",
        "    loss = loss_func(preds, yb)\n",
        "\n",
        "    if opt is not None:\n",
        "        # Compute the gradients\n",
        "        loss.backward()\n",
        "        # Update paramters\n",
        "        opt.step()\n",
        "        # Reset gradients\n",
        "        opt.zero_grad()\n",
        "\n",
        "    metric_result = None\n",
        "    if metric is not None:\n",
        "        # Compute the metric\n",
        "        metric_result = metric(preds, yb)\n",
        "\n",
        "    '''return\n",
        "    loss.item(): single value inside loss tensor\n",
        "    len(xb): length of the batch\n",
        "    metric_result: metric result\n",
        "\n",
        "    '''\n",
        "    return loss.item(), len(xb), metric_result\n"
      ],
      "execution_count": 71,
      "outputs": []
    },
    {
      "cell_type": "code",
      "metadata": {
        "id": "_1x_3urAxSIY"
      },
      "source": [
        "import numpy as np\n",
        "\n",
        "def evaluate(model, loss_fn, valid_dl, metric=None):\n",
        "    '''Calculate the overall loss(and a metric) for Validation Set\n",
        "    Input: Model, Loss funciton, Valdation DataLoader, Accuracy\n",
        "    '''\n",
        "    with torch.no_grad(): # Gradient Descent is only done for Traning set\n",
        "        # Pass each batch through the model\n",
        "        results = [loss_batch(model, loss_fn, xb, yb, metric=metric)\n",
        "                  for xb, yb in valid_dl]\n",
        "        # Separate losses, counts and metrics\n",
        "        losses, nums, metrics = zip(*results)\n",
        "        # Total size of the datset (We keep track of batch size because the last batch size will not be the same as the previous ones)\n",
        "        total = np.sum(nums)\n",
        "        # Avg. loss across batches\n",
        "        avg_loss = np.sum(np.multiply(losses, nums)) / total\n",
        "        avg_metric = None\n",
        "        if metric is not None:\n",
        "            # Avg. of metric across batches\n",
        "            avg_metric = np.sum(np.multiply(metrics, nums)) / total\n",
        "    return avg_loss, total, avg_metric"
      ],
      "execution_count": 75,
      "outputs": []
    },
    {
      "cell_type": "code",
      "metadata": {
        "id": "HkgksWOj3QWb"
      },
      "source": [
        "def accuracy(outputs, labels):\n",
        "    _, preds = torch.max(outputs, dim=1) #Take the maximum value\n",
        "    return torch.sum(preds == labels).item() / len(preds)\n"
      ],
      "execution_count": 76,
      "outputs": []
    },
    {
      "cell_type": "code",
      "metadata": {
        "colab": {
          "base_uri": "https://localhost:8080/"
        },
        "id": "NV95i7Mt3yTZ",
        "outputId": "76919cca-201e-402a-990a-d36e24e3f702"
      },
      "source": [
        "val_loss, total, val_acc = evaluate(model, loss_fn, val_loader, metric=accuracy)\n",
        "print('Loss: {:.4f}, Accuracy: {:.4f}'.format(val_loss, val_acc))"
      ],
      "execution_count": 77,
      "outputs": [
        {
          "output_type": "stream",
          "text": [
            "Loss: 2.3168, Accuracy: 0.0828\n"
          ],
          "name": "stdout"
        }
      ]
    },
    {
      "cell_type": "code",
      "metadata": {
        "id": "bf6xYA-1td5w"
      },
      "source": [
        "def fit(epochs, model, loss_fn, opt, train_loader, valid_loader, metric=None):\n",
        "    for epoch in range(epochs):\n",
        "        # Training\n",
        "        for xb, yb in train_loader:\n",
        "            loss, _, _ = loss_batch(model, loss_fn, xb, yb, opt)\n",
        "        # Evaluation\n",
        "        result = evaluate(model, loss_fn, valid_loader, metric)\n",
        "        val_loss, total, val_metric = result\n",
        "\n",
        "        # Print Progress\n",
        "        if metric is None:\n",
        "            print('Epoch [{}/{}], Loss: {:.4f}'\n",
        "                  .format(epoch+1, epochs, val_loss))\n",
        "        else:\n",
        "            print('Epoch [{}/{}], Loss: {:.4f}, {}: {:.4f}'\n",
        "                  .format(epoch+1, epochs, val_loss, metric.__name__, val_metric))\n"
      ],
      "execution_count": 78,
      "outputs": []
    },
    {
      "cell_type": "code",
      "metadata": {
        "id": "iTefMpnswEEO"
      },
      "source": [
        "# Redefine model and optimizer\n",
        "model = MnistModel()\n",
        "optimizer = torch.optim.SGD(model.parameters(), lr = learning_rate)"
      ],
      "execution_count": 79,
      "outputs": []
    },
    {
      "cell_type": "code",
      "metadata": {
        "colab": {
          "base_uri": "https://localhost:8080/"
        },
        "id": "zgheIaBpwI2D",
        "outputId": "783c8043-14a1-462e-eb78-09fe8bbbf79c"
      },
      "source": [
        "fit(5, model, F.cross_entropy, optimizer, train_loader, val_loader, accuracy)"
      ],
      "execution_count": 80,
      "outputs": [
        {
          "output_type": "stream",
          "text": [
            "Epoch [1/5], Loss: 1.9509, accuracy: 0.6158\n",
            "Epoch [2/5], Loss: 1.6915, accuracy: 0.7254\n",
            "Epoch [3/5], Loss: 1.4954, accuracy: 0.7612\n",
            "Epoch [4/5], Loss: 1.3461, accuracy: 0.7817\n",
            "Epoch [5/5], Loss: 1.2305, accuracy: 0.7936\n"
          ],
          "name": "stdout"
        }
      ]
    },
    {
      "cell_type": "code",
      "metadata": {
        "colab": {
          "base_uri": "https://localhost:8080/"
        },
        "id": "ZVES0AlIcSWO",
        "outputId": "a739a0e5-08a3-499b-db41-43c01df427d3"
      },
      "source": [
        "fit(10, model, F.cross_entropy, optimizer, train_loader, val_loader, accuracy)"
      ],
      "execution_count": 81,
      "outputs": [
        {
          "output_type": "stream",
          "text": [
            "Epoch [1/10], Loss: 1.1392, accuracy: 0.8038\n",
            "Epoch [2/10], Loss: 1.0656, accuracy: 0.8102\n",
            "Epoch [3/10], Loss: 1.0052, accuracy: 0.8155\n",
            "Epoch [4/10], Loss: 0.9547, accuracy: 0.8196\n",
            "Epoch [5/10], Loss: 0.9119, accuracy: 0.8228\n",
            "Epoch [6/10], Loss: 0.8753, accuracy: 0.8267\n",
            "Epoch [7/10], Loss: 0.8434, accuracy: 0.8291\n",
            "Epoch [8/10], Loss: 0.8155, accuracy: 0.8317\n",
            "Epoch [9/10], Loss: 0.7908, accuracy: 0.8345\n",
            "Epoch [10/10], Loss: 0.7688, accuracy: 0.8368\n"
          ],
          "name": "stdout"
        }
      ]
    },
    {
      "cell_type": "code",
      "metadata": {
        "id": "oF411MDdxITN",
        "colab": {
          "base_uri": "https://localhost:8080/"
        },
        "outputId": "9691fa26-ab7a-40b0-8811-562fe7cce632"
      },
      "source": [
        "fit(10, model, F.cross_entropy, optimizer, train_loader, val_loader, accuracy)"
      ],
      "execution_count": 82,
      "outputs": [
        {
          "output_type": "stream",
          "text": [
            "Epoch [1/10], Loss: 0.7491, accuracy: 0.8390\n",
            "Epoch [2/10], Loss: 0.7313, accuracy: 0.8406\n",
            "Epoch [3/10], Loss: 0.7151, accuracy: 0.8424\n",
            "Epoch [4/10], Loss: 0.7003, accuracy: 0.8445\n",
            "Epoch [5/10], Loss: 0.6867, accuracy: 0.8458\n",
            "Epoch [6/10], Loss: 0.6742, accuracy: 0.8471\n",
            "Epoch [7/10], Loss: 0.6627, accuracy: 0.8488\n",
            "Epoch [8/10], Loss: 0.6520, accuracy: 0.8505\n",
            "Epoch [9/10], Loss: 0.6420, accuracy: 0.8513\n",
            "Epoch [10/10], Loss: 0.6327, accuracy: 0.8521\n"
          ],
          "name": "stdout"
        }
      ]
    },
    {
      "cell_type": "code",
      "metadata": {
        "colab": {
          "base_uri": "https://localhost:8080/"
        },
        "id": "T-09y8hidF9P",
        "outputId": "4375af67-6109-49f9-8081-a2c0faf8d13f"
      },
      "source": [
        "fit(20, model, F.cross_entropy, optimizer, train_loader, val_loader, accuracy)"
      ],
      "execution_count": 83,
      "outputs": [
        {
          "output_type": "stream",
          "text": [
            "Epoch [1/20], Loss: 0.6240, accuracy: 0.8533\n",
            "Epoch [2/20], Loss: 0.6159, accuracy: 0.8548\n",
            "Epoch [3/20], Loss: 0.6082, accuracy: 0.8558\n",
            "Epoch [4/20], Loss: 0.6010, accuracy: 0.8572\n",
            "Epoch [5/20], Loss: 0.5942, accuracy: 0.8581\n",
            "Epoch [6/20], Loss: 0.5877, accuracy: 0.8586\n",
            "Epoch [7/20], Loss: 0.5816, accuracy: 0.8597\n",
            "Epoch [8/20], Loss: 0.5758, accuracy: 0.8612\n",
            "Epoch [9/20], Loss: 0.5703, accuracy: 0.8622\n",
            "Epoch [10/20], Loss: 0.5650, accuracy: 0.8631\n",
            "Epoch [11/20], Loss: 0.5600, accuracy: 0.8632\n",
            "Epoch [12/20], Loss: 0.5552, accuracy: 0.8636\n",
            "Epoch [13/20], Loss: 0.5507, accuracy: 0.8642\n",
            "Epoch [14/20], Loss: 0.5463, accuracy: 0.8650\n",
            "Epoch [15/20], Loss: 0.5421, accuracy: 0.8652\n",
            "Epoch [16/20], Loss: 0.5381, accuracy: 0.8658\n",
            "Epoch [17/20], Loss: 0.5342, accuracy: 0.8664\n",
            "Epoch [18/20], Loss: 0.5305, accuracy: 0.8666\n",
            "Epoch [19/20], Loss: 0.5269, accuracy: 0.8674\n",
            "Epoch [20/20], Loss: 0.5235, accuracy: 0.8680\n"
          ],
          "name": "stdout"
        }
      ]
    },
    {
      "cell_type": "markdown",
      "metadata": {
        "id": "-4TVP3iEd0C4"
      },
      "source": [
        "# Testing with individual images"
      ]
    },
    {
      "cell_type": "code",
      "metadata": {
        "colab": {
          "base_uri": "https://localhost:8080/"
        },
        "id": "GjVIgXrkd3dP",
        "outputId": "79953d6a-50af-4e83-e39d-4991fc259333"
      },
      "source": [
        "# Define the test dataset\n",
        "test_dataset = MNIST(root='data/',\n",
        "                     train=False,\n",
        "                     transform=transforms.ToTensor())\n",
        "print(len(test_dataset))"
      ],
      "execution_count": 86,
      "outputs": [
        {
          "output_type": "stream",
          "text": [
            "10000\n"
          ],
          "name": "stdout"
        }
      ]
    },
    {
      "cell_type": "code",
      "metadata": {
        "colab": {
          "base_uri": "https://localhost:8080/",
          "height": 316
        },
        "id": "xUcydYOwgGlz",
        "outputId": "1f92a550-1d3e-4235-fa13-029232f91128"
      },
      "source": [
        "img, label = test_dataset[0]\n",
        "print(\"Shape:\", img.shape)\n",
        "print(\"Label: \", label)\n",
        "plt.imshow(img[0], cmap='gray')"
      ],
      "execution_count": 91,
      "outputs": [
        {
          "output_type": "stream",
          "text": [
            "Shape: torch.Size([1, 28, 28])\n",
            "Label:  7\n"
          ],
          "name": "stdout"
        },
        {
          "output_type": "execute_result",
          "data": {
            "text/plain": [
              "<matplotlib.image.AxesImage at 0x7f6e34603a90>"
            ]
          },
          "metadata": {
            "tags": []
          },
          "execution_count": 91
        },
        {
          "output_type": "display_data",
          "data": {
            "image/png": "[encoded data removed]",
            "text/plain": [
              "<Figure size 432x288 with 1 Axes>"
            ]
          },
          "metadata": {
            "tags": [],
            "needs_background": "light"
          }
        }
      ]
    },
    {
      "cell_type": "code",
      "metadata": {
        "colab": {
          "base_uri": "https://localhost:8080/"
        },
        "id": "vhSi1Z52gOVi",
        "outputId": "4ee30496-30b3-4e68-8e62-4e13e1572620"
      },
      "source": [
        "img.unsqueeze(0).shape"
      ],
      "execution_count": 92,
      "outputs": [
        {
          "output_type": "execute_result",
          "data": {
            "text/plain": [
              "torch.Size([1, 1, 28, 28])"
            ]
          },
          "metadata": {
            "tags": []
          },
          "execution_count": 92
        }
      ]
    },
    {
      "cell_type": "code",
      "metadata": {
        "id": "mhNhIhmNgrEY"
      },
      "source": [
        "def predict_image(img, model):\n",
        "    xb = img.unsqueeze(0)\n",
        "    yb = model(xb)\n",
        "    _, preds = torch.max(yb, dim=1)\n",
        "    return preds[0].item()"
      ],
      "execution_count": 99,
      "outputs": []
    },
    {
      "cell_type": "markdown",
      "metadata": {
        "id": "8QnvdNoShbhy"
      },
      "source": [
        "img.squeeze simple adds another dimension at the beginning of the 1x28x28, making it a 1x1x28x28 tensor, which the model views as a batch containig a single image."
      ]
    },
    {
      "cell_type": "code",
      "metadata": {
        "colab": {
          "base_uri": "https://localhost:8080/",
          "height": 282
        },
        "id": "1f1MiKZohJnY",
        "outputId": "9a816213-e1f3-4ec9-e15b-3cae561bea38"
      },
      "source": [
        "img, label = test_dataset[0]\n",
        "plt.imshow(img[0], cmap='gray')\n",
        "print(\"Label: \", label, \" , Predicted: \", predict_image(img, model))"
      ],
      "execution_count": 101,
      "outputs": [
        {
          "output_type": "stream",
          "text": [
            "Label:  7  , Predicted:  7\n"
          ],
          "name": "stdout"
        },
        {
          "output_type": "display_data",
          "data": {
            "image/png": "[encoded data removed]",
            "text/plain": [
              "<Figure size 432x288 with 1 Axes>"
            ]
          },
          "metadata": {
            "tags": [],
            "needs_background": "light"
          }
        }
      ]
    },
    {
      "cell_type": "code",
      "metadata": {
        "colab": {
          "base_uri": "https://localhost:8080/",
          "height": 282
        },
        "id": "UmetsQfdhP1H",
        "outputId": "001aa6e7-aaf9-42f2-eb44-8191c557792f"
      },
      "source": [
        "img, label = test_dataset[10]\n",
        "plt.imshow(img[0], cmap='gray')\n",
        "print(\"Label: \", label, \" , Predicted: \", predict_image(img, model))"
      ],
      "execution_count": 102,
      "outputs": [
        {
          "output_type": "stream",
          "text": [
            "Label:  0  , Predicted:  0\n"
          ],
          "name": "stdout"
        },
        {
          "output_type": "display_data",
          "data": {
            "image/png": "[encoded data removed]",
            "text/plain": [
              "<Figure size 432x288 with 1 Axes>"
            ]
          },
          "metadata": {
            "tags": [],
            "needs_background": "light"
          }
        }
      ]
    },
    {
      "cell_type": "code",
      "metadata": {
        "colab": {
          "base_uri": "https://localhost:8080/",
          "height": 282
        },
        "id": "7b53CTUah8gg",
        "outputId": "1e545b4f-3892-4cfa-f465-b7d09f7c4f66"
      },
      "source": [
        "img, label = test_dataset[1839]\n",
        "plt.imshow(img[0], cmap='gray')\n",
        "print(\"Label: \", label, \" , Predicted: \", predict_image(img, model))"
      ],
      "execution_count": 104,
      "outputs": [
        {
          "output_type": "stream",
          "text": [
            "Label:  2  , Predicted:  8\n"
          ],
          "name": "stdout"
        },
        {
          "output_type": "display_data",
          "data": {
            "image/png": "[encoded data removed]",
            "text/plain": [
              "<Figure size 432x288 with 1 Axes>"
            ]
          },
          "metadata": {
            "tags": [],
            "needs_background": "light"
          }
        }
      ]
    },
    {
      "cell_type": "code",
      "metadata": {
        "colab": {
          "base_uri": "https://localhost:8080/"
        },
        "id": "9UzaKGCRiEMU",
        "outputId": "cc72fd70-a104-4e10-c1f5-2802216354f4"
      },
      "source": [
        "test_loader = DataLoader(test_dataset, batch_size=200)\n",
        "\n",
        "test_loss, total, test_acc = evaluate(model, loss_fn, test_loader, metric=accuracy)\n",
        "print(\"Loss: {:.4f}, Accuracy: {:.4f}\".format(test_loss, test_acc))"
      ],
      "execution_count": 106,
      "outputs": [
        {
          "output_type": "stream",
          "text": [
            "Loss: 0.4928, Accuracy: 0.8817\n"
          ],
          "name": "stdout"
        }
      ]
    },
    {
      "cell_type": "markdown",
      "metadata": {
        "id": "Zg-_OSQ_iza3"
      },
      "source": [
        "The accuracy tends to increase as model runs more experiment and learns more"
      ]
    },
    {
      "cell_type": "markdown",
      "metadata": {
        "id": "Ta6sJEvMjYnS"
      },
      "source": [
        "# Save Model's Weight and Bias and Load"
      ]
    },
    {
      "cell_type": "code",
      "metadata": {
        "id": "Pbe6BNlrijWX"
      },
      "source": [
        "torch.save(model.state_dict(), 'mnist-logistic.pth')"
      ],
      "execution_count": 107,
      "outputs": []
    },
    {
      "cell_type": "code",
      "metadata": {
        "colab": {
          "base_uri": "https://localhost:8080/"
        },
        "id": "n6d2OUJPi-Ff",
        "outputId": "4581f572-ce74-4fdc-ca50-c06ea352d6a2"
      },
      "source": [
        "model.state_dict()"
      ],
      "execution_count": 108,
      "outputs": [
        {
          "output_type": "execute_result",
          "data": {
            "text/plain": [
              "OrderedDict([('linear.weight',\n",
              "              tensor([[-0.0057,  0.0194, -0.0035,  ..., -0.0345,  0.0203, -0.0215],\n",
              "                      [ 0.0229,  0.0199, -0.0309,  ...,  0.0343,  0.0019,  0.0088],\n",
              "                      [-0.0189,  0.0003,  0.0177,  ...,  0.0112,  0.0049,  0.0354],\n",
              "                      ...,\n",
              "                      [-0.0317,  0.0273,  0.0081,  ...,  0.0192,  0.0351,  0.0250],\n",
              "                      [ 0.0064, -0.0075,  0.0067,  ...,  0.0049,  0.0332, -0.0005],\n",
              "                      [ 0.0176,  0.0275, -0.0304,  ..., -0.0184, -0.0110,  0.0285]])),\n",
              "             ('linear.bias',\n",
              "              tensor([-0.0808,  0.1278, -0.0508, -0.0537,  0.0729,  0.0640,  0.0175,  0.0624,\n",
              "                      -0.1853, -0.0317]))])"
            ]
          },
          "metadata": {
            "tags": []
          },
          "execution_count": 108
        }
      ]
    },
    {
      "cell_type": "code",
      "metadata": {
        "colab": {
          "base_uri": "https://localhost:8080/"
        },
        "id": "ouksfD1ci_wk",
        "outputId": "810c3ee7-883c-4705-9b2e-46acd7fc8258"
      },
      "source": [
        "model2 = MnistModel()\n",
        "model2.load_state_dict(torch.load(\"mnist-logistic.pth\"))\n",
        "model2.state_dict()"
      ],
      "execution_count": 109,
      "outputs": [
        {
          "output_type": "execute_result",
          "data": {
            "text/plain": [
              "OrderedDict([('linear.weight',\n",
              "              tensor([[-0.0057,  0.0194, -0.0035,  ..., -0.0345,  0.0203, -0.0215],\n",
              "                      [ 0.0229,  0.0199, -0.0309,  ...,  0.0343,  0.0019,  0.0088],\n",
              "                      [-0.0189,  0.0003,  0.0177,  ...,  0.0112,  0.0049,  0.0354],\n",
              "                      ...,\n",
              "                      [-0.0317,  0.0273,  0.0081,  ...,  0.0192,  0.0351,  0.0250],\n",
              "                      [ 0.0064, -0.0075,  0.0067,  ...,  0.0049,  0.0332, -0.0005],\n",
              "                      [ 0.0176,  0.0275, -0.0304,  ..., -0.0184, -0.0110,  0.0285]])),\n",
              "             ('linear.bias',\n",
              "              tensor([-0.0808,  0.1278, -0.0508, -0.0537,  0.0729,  0.0640,  0.0175,  0.0624,\n",
              "                      -0.1853, -0.0317]))])"
            ]
          },
          "metadata": {
            "tags": []
          },
          "execution_count": 109
        }
      ]
    },
    {
      "cell_type": "code",
      "metadata": {
        "colab": {
          "base_uri": "https://localhost:8080/"
        },
        "id": "5Loqsu6HjerZ",
        "outputId": "b189f6b5-34af-4eb4-e8dc-e03b1611f111"
      },
      "source": [
        "test_loader = DataLoader(test_dataset, batch_size=200)\n",
        "\n",
        "test_loss, total, test_acc = evaluate(model2, loss_fn, test_loader, metric=accuracy)\n",
        "print(\"Loss: {:.4f}, Accuracy: {:.4f}\".format(test_loss, test_acc))"
      ],
      "execution_count": 110,
      "outputs": [
        {
          "output_type": "stream",
          "text": [
            "Loss: 0.4928, Accuracy: 0.8817\n"
          ],
          "name": "stdout"
        }
      ]
    },
    {
      "cell_type": "code",
      "metadata": {
        "id": "aJNkdynqjon-"
      },
      "source": [
        ""
      ],
      "execution_count": null,
      "outputs": []
    }
  ]
}